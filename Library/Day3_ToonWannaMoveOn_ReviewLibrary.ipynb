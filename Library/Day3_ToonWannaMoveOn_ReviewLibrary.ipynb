{
  "nbformat": 4,
  "nbformat_minor": 0,
  "metadata": {
    "colab": {
      "name": "Day3_ToonWannaMoveOn_Library.ipynb",
      "provenance": [],
      "collapsed_sections": [],
      "mount_file_id": "1_97w_yvmPDOmC5VXLCAZ7reUdQmqjL22",
      "authorship_tag": "ABX9TyNiHtn45pV6+yYf6edMSvYo"
    },
    "kernelspec": {
      "name": "python3",
      "display_name": "Python 3"
    },
    "language_info": {
      "name": "python"
    }
  },
  "cells": [
    {
      "cell_type": "code",
      "execution_count": null,
      "metadata": {
        "id": "8cWlp_J80x-Y"
      },
      "outputs": [],
      "source": [
        "# RunMe First\n",
        "import math\n",
        "def line1(): # ไม่จำเป็นต้องมี\n",
        "  print('*'*30)\n",
        "def line2(ch): # ไม่จำเป็นต้องมี\n",
        "  print('{}'.format(ch*30))\n",
        "def line3(ch,num1): # ไม่จำเป็นต้องมี\n",
        "  print('{}'.format(ch*num1))\n",
        "def credit(slide,ns,revday): # ไม่จำเป็นต้องมี\n",
        "  line3('-',50)\n",
        "  print('Made this template with ❤ By Kritthapath Yaviraj (ToonWannaMoveOn) [Group 1]')\n",
        "  if slide == \"RunMe\":\n",
        "    print(\"User definded function has been loaded.\")\n",
        "  elif slide == \"Review\":\n",
        "    print('Current : Reviewing Day {}'.format(revday))\n",
        "  else:\n",
        "    print('Current : Slide {}'.format(slide))\n",
        "  \n",
        "  if ns == \"NoNext\" or ns == \"RunMe\":\n",
        "    line3('-',50)\n",
        "  else:\n",
        "    print('Next : {}'.format(ns))\n",
        "    line3('-',50)\n",
        "def Line(ch,num1):\n",
        "  print('{}'.format(ch*num1))\n",
        "def menu():\n",
        "  Line(\"-\",40) #call function\n",
        "  print(\"\\nPress \"\"C/c\"\" : Find A Circle Area\")\n",
        "  print(\"\\nPress \"\"S/s\"\" : Find A Square Area\\n\")\n",
        "def circleArea(R): # R = รัศมี \n",
        "  area = math.pi * math.pow(R,2)\n",
        "  return area\n",
        "def squareArea(W,L):\n",
        "  #area = W*L\n",
        "  return W*L"
      ]
    }
  ]
}