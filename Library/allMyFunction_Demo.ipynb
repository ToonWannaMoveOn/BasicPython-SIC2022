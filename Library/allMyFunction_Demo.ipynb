{
  "nbformat": 4,
  "nbformat_minor": 0,
  "metadata": {
    "colab": {
      "name": "allMyFunction_Demo.ipynb",
      "provenance": [],
      "collapsed_sections": []
    },
    "kernelspec": {
      "name": "python3",
      "display_name": "Python 3"
    },
    "language_info": {
      "name": "python"
    }
  },
  "cells": [
    {
      "cell_type": "code",
      "execution_count": null,
      "metadata": {
        "id": "AD6W2XCpIcq8"
      },
      "outputs": [],
      "source": [
        "def calFarenheit(cel):\n",
        "  f = ((9 * cel) / 5) + 32\n",
        "  return f\n",
        "def callKelvin(cel):\n",
        "  k = cel + 273.15\n",
        "  return k\n",
        "def callTemp(c):\n",
        "  f = ((9 * c) / 5) + 32\n",
        "  k = c + 273.15\n",
        "  return f,k\n",
        "def line1(): # ไม่จำเป็นต้องมี\n",
        "  print('*'*30)\n",
        "def line2(ch): # ไม่จำเป็นต้องมี\n",
        "  print('{}'.format(ch*30))\n",
        "def line3(ch,num1): # ไม่จำเป็นต้องมี\n",
        "  print('{}'.format(ch*num1))\n",
        "def credit(slide,ns,revday): # ไม่จำเป็นต้องมี\n",
        "  line3('-',50)\n",
        "  print('Made with ❤ By Kritthapath Yaviraj (ToonWannaMoveOn) [Group 1]')\n",
        "  if slide == \"RunMe\":\n",
        "    print(\"User definded function has been loaded.\")\n",
        "  elif slide == \"Review\":\n",
        "    print('Current : Reviewing Day {}'.format(revday))\n",
        "  else:\n",
        "    print('Current : Slide {}'.format(slide))\n",
        "  \n",
        "  if ns == \"NoNext\" or ns == \"RunMe\":\n",
        "    line3('-',50)\n",
        "  else:\n",
        "    print('Next : {}'.format(ns))\n",
        "    line3('-',50)"
      ]
    }
  ]
}